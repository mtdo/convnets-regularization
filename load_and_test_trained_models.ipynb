{
 "cells": [
  {
   "cell_type": "code",
   "execution_count": null,
   "metadata": {},
   "outputs": [],
   "source": [
    "import numpy as np\n",
    "import pickle\n",
    "import matplotlib.pyplot as plt\n",
    "\n",
    "from keras.datasets import cifar10\n",
    "from keras.utils import to_categorical\n",
    "from keras.models import load_model"
   ]
  },
  {
   "cell_type": "code",
   "execution_count": null,
   "metadata": {},
   "outputs": [],
   "source": [
    "# Load dataset\n",
    "(x_train, y_train), (x_test, y_test) = cifar10.load_data()\n",
    "print(\"Training set shape:\", x_train.shape)\n",
    "print(\"Test set shape:\", x_test.shape)\n",
    "labels = [\"airplane\", \"automobile\", \"bird\", \"cat\", \"deer\", \"dog\",\n",
    "          \"frog\", \"horse\", \"ship\", \"truck\"]"
   ]
  },
  {
   "cell_type": "code",
   "execution_count": null,
   "metadata": {},
   "outputs": [],
   "source": [
    "# Plot random image from training set\n",
    "img = np.random.randint(len(x_train))\n",
    "plt.title(labels[y_train[img][0]])\n",
    "plt.imshow(x_train[img])\n",
    "plt.show()"
   ]
  },
  {
   "cell_type": "code",
   "execution_count": null,
   "metadata": {},
   "outputs": [],
   "source": [
    "# Feature scale RGB in test and train inputs\n",
    "x_train = x_train/255\n",
    "x_test = x_test/255\n",
    "\n",
    "# Transform labels to one hot representation\n",
    "y_train = to_categorical(y_train, num_classes = 10)\n",
    "y_test = to_categorical(y_test, num_classes = 10)"
   ]
  },
  {
   "cell_type": "code",
   "execution_count": null,
   "metadata": {},
   "outputs": [],
   "source": [
    "# Load model and training history\n",
    "# Base model\n",
    "b = load_model('models/b.h5')\n",
    "b_history = pickle.load(open('models/b_history', 'rb'))"
   ]
  },
  {
   "cell_type": "code",
   "execution_count": null,
   "metadata": {},
   "outputs": [],
   "source": [
    "# Load model and training history\n",
    "# Enhanced model\n",
    "eb = load_model('models/eb.h5')\n",
    "eb_history = pickle.load(open('models/eb_history', 'rb'))"
   ]
  },
  {
   "cell_type": "code",
   "execution_count": null,
   "metadata": {},
   "outputs": [],
   "source": [
    "# Load model and training history\n",
    "# Enhanced model with batch normalization\n",
    "ebbn = load_model('models/ebbn.h5')\n",
    "ebbn_history = pickle.load(open('models/ebbn_history', 'rb'))"
   ]
  },
  {
   "cell_type": "code",
   "execution_count": null,
   "metadata": {},
   "outputs": [],
   "source": [
    "# Load model and training history\n",
    "# Enhanced model with batch normalization and dropout\n",
    "ebbnd = load_model('models/ebbnd.h5')\n",
    "ebbnd_history = pickle.load(open('models/ebbnd_history', 'rb'))"
   ]
  },
  {
   "cell_type": "code",
   "execution_count": null,
   "metadata": {},
   "outputs": [],
   "source": [
    "# Load model and training history\n",
    "# Enhanced model with batch normalization and dropout, trained with augmented data\n",
    "ebbndda = load_model('models/ebbndda.h5')\n",
    "ebbndda_history = pickle.load(open('models/ebbndda_history', 'rb'))"
   ]
  },
  {
   "cell_type": "code",
   "execution_count": null,
   "metadata": {},
   "outputs": [],
   "source": [
    "# Base model\n",
    "# Loss on training set for each epoch\n",
    "plt.figure(figsize=(16,4))\n",
    "plt.subplot(1,2,1)\n",
    "plt.title(\"Loss (b)\")\n",
    "plt.plot(b_history[\"loss\"])\n",
    "\n",
    "# Training and validation accuracy for each epoch\n",
    "plt.subplot(1,2,2)\n",
    "plt.title(\"Classification accuracy (b)\")\n",
    "plt.plot(b_history[\"acc\"], label=\"Training\")\n",
    "plt.plot(b_history[\"val_acc\"], label=\"Validation\")\n",
    "plt.legend()\n",
    "plt.show()"
   ]
  },
  {
   "cell_type": "code",
   "execution_count": null,
   "metadata": {},
   "outputs": [],
   "source": [
    "# Enhanced model\n",
    "# Loss on training set for each epoch\n",
    "plt.figure(figsize=(16,4))\n",
    "plt.subplot(1,2,1)\n",
    "plt.title(\"Loss (eb)\")\n",
    "plt.plot(eb_history[\"loss\"])\n",
    "\n",
    "# Training and validation accuracy for each epoch\n",
    "plt.subplot(1,2,2)\n",
    "plt.title(\"Classification accuracy (eb)\")\n",
    "plt.plot(eb_history[\"acc\"], label=\"Training\")\n",
    "plt.plot(eb_history[\"val_acc\"], label=\"Validation\")\n",
    "plt.legend()\n",
    "plt.show()"
   ]
  },
  {
   "cell_type": "code",
   "execution_count": null,
   "metadata": {},
   "outputs": [],
   "source": [
    "# Enhanced model with batch normalization\n",
    "# Loss on training set for each epoch\n",
    "plt.figure(figsize=(16,4))\n",
    "plt.subplot(1,2,1)\n",
    "plt.title(\"Loss (ebbn)\")\n",
    "plt.plot(ebbn_history[\"loss\"])\n",
    "\n",
    "# Training and validation accuracy for each epoch\n",
    "plt.subplot(1,2,2)\n",
    "plt.title(\"Classification accuracy (ebbn)\")\n",
    "plt.plot(ebbn_history[\"acc\"], label=\"Training\")\n",
    "plt.plot(ebbn_history[\"val_acc\"], label=\"Validation\")\n",
    "plt.legend()\n",
    "plt.show()"
   ]
  },
  {
   "cell_type": "code",
   "execution_count": null,
   "metadata": {},
   "outputs": [],
   "source": [
    "# Enhanced model with batch normalization and dropout\n",
    "# Loss on training set for each epoch\n",
    "plt.figure(figsize=(16,4))\n",
    "plt.subplot(1,2,1)\n",
    "plt.title(\"Loss (ebbnd)\")\n",
    "plt.plot(ebbnd_history[\"loss\"])\n",
    "\n",
    "# Training and validation accuracy for each epoch\n",
    "plt.subplot(1,2,2)\n",
    "plt.title(\"Classification accuracy (ebbnd)\")\n",
    "plt.plot(ebbnd_history[\"acc\"], label=\"Training\")\n",
    "plt.plot(ebbnd_history[\"val_acc\"], label=\"Validation\")\n",
    "plt.legend()\n",
    "plt.show()"
   ]
  },
  {
   "cell_type": "code",
   "execution_count": null,
   "metadata": {},
   "outputs": [],
   "source": [
    "# Enhanced model with batch normalization and dropout (data augmentation)\n",
    "# Loss on training set for each epoch\n",
    "plt.figure(figsize=(16,4))\n",
    "plt.subplot(1,2,1)\n",
    "plt.title(\"Loss (ebbndda)\")\n",
    "plt.plot(ebbndda_history[\"loss\"])\n",
    "\n",
    "# Training and validation accuracy for each epoch\n",
    "plt.subplot(1,2,2)\n",
    "plt.title(\"Classification accuracy (ebbndda)\")\n",
    "plt.plot(ebbndda_history[\"acc\"], label=\"Training\")\n",
    "plt.plot(ebbndda_history[\"val_acc\"], label=\"Validation\")\n",
    "plt.legend()\n",
    "plt.show()"
   ]
  },
  {
   "cell_type": "code",
   "execution_count": null,
   "metadata": {},
   "outputs": [],
   "source": [
    "# Base model\n",
    "# Final train set cost and classification accuracy\n",
    "b_train_eval = b.evaluate(x = x_train, y = y_train)\n",
    "print(\"Final train set loss (b):\", np.round(b_train_eval[0], 4))\n",
    "print(\"Final train set classification accuracy (b):\", np.round(b_train_eval[1], 4))\n",
    "print(\"----------------------------------------------------------------------\")\n",
    "\n",
    "# Final test set cost and classification accuracy\n",
    "b_test_eval = b.evaluate(x = x_test, y = y_test)\n",
    "print(\"Final test set loss (b):\", np.round(b_test_eval[0], 4))\n",
    "print(\"Final test set classification accuracy (b):\", np.round(b_test_eval[1], 4))\n",
    "print(\"----------------------------------------------------------------------\")"
   ]
  },
  {
   "cell_type": "code",
   "execution_count": null,
   "metadata": {},
   "outputs": [],
   "source": [
    "# Enhanced model\n",
    "# Final train set cost and classification accuracy\n",
    "eb_train_eval = eb.evaluate(x = x_train, y = y_train)\n",
    "print(\"Final train set loss (eb):\", np.round(eb_train_eval[0], 4))\n",
    "print(\"Final train set classification accuracy (eb):\", np.round(eb_train_eval[1], 4))\n",
    "print(\"----------------------------------------------------------------------\")\n",
    "\n",
    "# Final test set cost and classification accuracy\n",
    "eb_test_eval = eb.evaluate(x = x_test, y = y_test)\n",
    "print(\"Final test set loss (eb):\", np.round(eb_test_eval[0], 4))\n",
    "print(\"Final test set classification accuracy (eb):\", np.round(eb_test_eval[1], 4))\n",
    "print(\"----------------------------------------------------------------------\")"
   ]
  },
  {
   "cell_type": "code",
   "execution_count": null,
   "metadata": {},
   "outputs": [],
   "source": [
    "# Enhanced model with batch normalization\n",
    "# Final train set cost and classification accuracy\n",
    "ebbn_train_eval = ebbn.evaluate(x = x_train, y = y_train)\n",
    "print(\"Final train set loss (ebbn):\", np.round(ebbn_train_eval[0], 4))\n",
    "print(\"Final train set classification accuracy (ebbn):\", np.round(ebbn_train_eval[1], 4))\n",
    "print(\"----------------------------------------------------------------------\")\n",
    "\n",
    "# Final test set cost and classification accuracy\n",
    "ebbn_test_eval = ebbn.evaluate(x = x_test, y = y_test)\n",
    "print(\"Final test set loss (ebbn):\", np.round(ebbn_test_eval[0], 4))\n",
    "print(\"Final test set classification accuracy (ebbn):\", np.round(ebbn_test_eval[1], 4))\n",
    "print(\"----------------------------------------------------------------------\")"
   ]
  },
  {
   "cell_type": "code",
   "execution_count": null,
   "metadata": {},
   "outputs": [],
   "source": [
    "# Enhanced model with batch normalization and dropout\n",
    "# Final train set cost and classification accuracy\n",
    "ebbnd_train_eval = ebbnd.evaluate(x = x_train, y = y_train)\n",
    "print(\"Final train set loss (ebbnd):\", np.round(ebbnd_train_eval[0], 4))\n",
    "print(\"Final train set classification accuracy (ebbnd):\", np.round(ebbnd_train_eval[1], 4))\n",
    "print(\"----------------------------------------------------------------------\")\n",
    "\n",
    "# Final test set cost and classification accuracy\n",
    "ebbnd_test_eval = ebbnd.evaluate(x = x_test, y = y_test)\n",
    "print(\"Final test set loss (ebbnd):\", np.round(ebbnd_test_eval[0], 4))\n",
    "print(\"Final test set classification accuracy (ebbnd):\", np.round(ebbnd_test_eval[1], 4))\n",
    "print(\"----------------------------------------------------------------------\")"
   ]
  },
  {
   "cell_type": "code",
   "execution_count": null,
   "metadata": {},
   "outputs": [],
   "source": [
    "# Enhanced model with batch normalization and dropout (data augmentation)\n",
    "# Final train set cost and classification accuracy\n",
    "ebbndda_train_eval = ebbndda.evaluate(x = x_train, y = y_train)\n",
    "print(\"Final train set loss (ebbndda):\", np.round(ebbndda_train_eval[0], 4))\n",
    "print(\"Final train set classification accuracy (ebbndda):\", np.round(ebbndda_train_eval[1], 4))\n",
    "print(\"----------------------------------------------------------------------\")\n",
    "\n",
    "# Final test set cost and classification accuracy\n",
    "ebbndda_test_eval = ebbndda.evaluate(x = x_test, y = y_test)\n",
    "print(\"Final test set loss (ebbndda):\", np.round(ebbndda_test_eval[0], 4))\n",
    "print(\"Final test set classification accuracy (ebbndda):\", np.round(ebbndda_test_eval[1], 4))\n",
    "print(\"----------------------------------------------------------------------\")"
   ]
  }
 ],
 "metadata": {
  "kernelspec": {
   "display_name": "Python 3",
   "language": "python",
   "name": "python3"
  },
  "language_info": {
   "codemirror_mode": {
    "name": "ipython",
    "version": 3
   },
   "file_extension": ".py",
   "mimetype": "text/x-python",
   "name": "python",
   "nbconvert_exporter": "python",
   "pygments_lexer": "ipython3",
   "version": "3.6.5"
  }
 },
 "nbformat": 4,
 "nbformat_minor": 2
}
